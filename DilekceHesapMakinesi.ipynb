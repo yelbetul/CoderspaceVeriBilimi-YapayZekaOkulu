{
 "cells": [
  {
   "cell_type": "code",
   "execution_count": 1,
   "metadata": {},
   "outputs": [
    {
     "name": "stdout",
     "output_type": "stream",
     "text": [
      "\n",
      "                                                                                  Tarih: 30.06.2021\n",
      "                                                    \n",
      "T.C.\n",
      "Ankara ÜNİVERSİTESİ\n",
      "Mühendislik Fakültesi Dekanlığına\n",
      "\n",
      "Fakülteniz Elektrik-Elektronik Mühendisliği Bölümü 21343444 numaralı öğrencisiyim. Ekte sunduğum belge uyarınca 2020-2021 Akademik Yılı\n",
      "Bahar Yarıyılında öğrenimime ara vermek istiyorum.\n",
      "\n",
      "Bilgilerinize saygılarımla arz ederim.\n",
      "\n",
      "Ad                : Ahmet\n",
      "Soyad             : Uyar\n",
      "TC Kimlik No      : 1111111111111\n",
      "Adres             : Moda 80300 İstanbul\n",
      "Tel               : 05425420542\n",
      "Ekler             : ___\n",
      "\n"
     ]
    }
   ],
   "source": [
    "dilekce = \"\"\"\n",
    "                                                                                  Tarih: {}\n",
    "                                                    \n",
    "T.C.\n",
    "{} ÜNİVERSİTESİ\n",
    "{} Fakültesi Dekanlığına\n",
    "\n",
    "Fakülteniz {} Bölümü {} numaralı öğrencisiyim. Ekte sunduğum belge uyarınca {} Akademik Yılı\n",
    "{} Yarıyılında öğrenimime ara vermek istiyorum.\n",
    "\n",
    "Bilgilerinize saygılarımla arz ederim.\n",
    "\n",
    "Ad                : {}\n",
    "Soyad             : {}\n",
    "TC Kimlik No      : {}\n",
    "Adres             : {}\n",
    "Tel               : {}\n",
    "Ekler             : {}\n",
    "\"\"\"\n",
    "tarih = \"30.06.2021\"\n",
    "universite = \"Ankara\"\n",
    "fakulte = \"Mühendislik\"\n",
    "bolum = \"Elektrik-Elektronik Mühendisliği\"\n",
    "no = \"21343444\"\n",
    "akademik_yil = \"2020-2021\"\n",
    "yariyil = \"Bahar\"\n",
    "ad = \"Ahmet\"\n",
    "soyad = \"Uyar\"\n",
    "tc = \"1111111111111\"\n",
    "adres = \"Moda 80300 İstanbul\"\n",
    "tel = \"05425420542\"\n",
    "ekler = \"___\"\n",
    "\n",
    "print(dilekce.format(tarih, universite, fakulte, bolum, no, akademik_yil, yariyil, ad, soyad, tc, adres, tel, ekler))"
   ]
  },
  {
   "cell_type": "code",
   "execution_count": null,
   "metadata": {},
   "outputs": [],
   "source": [
    "yas = int(input(\"Yaşınızı giriniz: \"))\n",
    "\n",
    "\n",
    "if yas < 18 and yas >= 0:\n",
    "    print(\"Yaşınız 18'den küçük olduğu için giremezsiniz!...\")\n",
    "elif yas > 18:\n",
    "    print(\"Yaşınız 18'den büyük olduğu için girebilirsiniz!...\")\n",
    "elif yas == 18:\n",
    "    print(\"Yaşınız tam 18 olduğu için girip giremeyeceğinize karar veremedim!...\")\n",
    "elif not (yas > 0):\n",
    "    print(\"Yanlış giriş yapmış olabilir misiniz?\")\n",
    "else:\n",
    "    print(\"Geçersiz giriş yaptınız!...\")\n",
    "\n",
    "print(\"Bu satır her halükarda çalışır\")\n"
   ]
  },
  {
   "cell_type": "code",
   "execution_count": null,
   "metadata": {},
   "outputs": [],
   "source": [
    "Karşılaştırma Operatörleri\n",
    ">\n",
    "<\n",
    ">=\n",
    "<=\n",
    "==      eşittir kontrolü\n",
    "!=      eşit değildir kontrolü\n",
    "\n",
    "Aritmetik Operatörler\n",
    "+\n",
    "*\n",
    "/\n",
    "-\n",
    "//    kalansız bölme\n",
    "**\n",
    "%\n",
    "\n",
    "Değer Atama Operatörleri\n",
    "=\n",
    "+=                        a += 3   ile a = a+3  aynı şey\n",
    "-=\n",
    "*=\n",
    "/=\n",
    "%=\n",
    "**=\n",
    "//=\n",
    "\n",
    "Aitlik Operatörü\n",
    "in\n",
    "\n",
    "Bool Operatörleri\n",
    "and\n",
    "or\n",
    "not\n"
   ]
  },
  {
   "cell_type": "code",
   "execution_count": null,
   "metadata": {},
   "outputs": [],
   "source": [
    "notum = int(input(\"Notunuzu Giriniz: \"))\n",
    "\n",
    "\n",
    "if notum > 100 or notum < 0:\n",
    "    print(\"Böyle bir not almanız imkansız!...\")\n",
    "    \n",
    "elif notum >= 90 <= 100:\n",
    "    print(\"Harf notunuz AA\")\n",
    "    \n",
    "elif notum >= 85 <= 89:\n",
    "    print(\"Harf notunuz BA\")\n",
    "\n",
    "elif notum >= 80 <= 84:\n",
    "    print(\"Harf notunuz BB\")\n",
    "\n",
    "elif notum >= 75 <= 79:\n",
    "    print(\"Harf notunuz CB\")\n",
    "\n",
    "elif notum >= 70 <= 74:\n",
    "    print(\"Harf notunuz CC\")\n",
    "    \n",
    "else:\n",
    "    print(\"Berbat!...\")"
   ]
  },
  {
   "cell_type": "code",
   "execution_count": 7,
   "metadata": {},
   "outputs": [
    {
     "name": "stdout",
     "output_type": "stream",
     "text": [
      "Parola giriniz: \n",
      "Parola kısmı boş geçilemez!...\n"
     ]
    }
   ],
   "source": [
    "Parola = input(\"Parola giriniz: \")\n",
    "\n",
    "if not Parola:\n",
    "    print(\"Parola kısmı boş geçilemez!...\")"
   ]
  },
  {
   "cell_type": "code",
   "execution_count": 8,
   "metadata": {},
   "outputs": [
    {
     "name": "stdout",
     "output_type": "stream",
     "text": [
      "Bir sayı girin: 1\n",
      "Bir sayı girin: 4\n",
      "Bir sayı girin: 5\n",
      "Bir sayı girin: 7\n",
      "Bir sayı girin: 5676\n",
      "En fazla üç haneli bir sayı girebilirsiniz.\n",
      "Bir sayı girin: İptal\n",
      "En fazla üç haneli bir sayı girebilirsiniz.\n",
      "Bir sayı girin: iptal\n"
     ]
    }
   ],
   "source": [
    "while True:\n",
    "    s = input(\"Bir sayı girin: \")\n",
    "    if s == \"iptal\":\n",
    "        break\n",
    "\n",
    "    if len(s) <= 3:\n",
    "        continue\n",
    "\n",
    "    print(\"En fazla üç haneli bir sayı girebilirsiniz.\")"
   ]
  },
  {
   "cell_type": "code",
   "execution_count": 9,
   "metadata": {},
   "outputs": [
    {
     "name": "stdout",
     "output_type": "stream",
     "text": [
      "elebüG elebeH\n"
     ]
    }
   ],
   "source": [
    "karakter_dizisi = \"Hebele Gübele\"\n",
    "print(karakter_dizisi[::-1])"
   ]
  },
  {
   "cell_type": "code",
   "execution_count": 11,
   "metadata": {},
   "outputs": [
    {
     "data": {
      "text/plain": [
       "['ç', 'ç', 'e', 'i', 'k']"
      ]
     },
     "execution_count": 11,
     "metadata": {},
     "output_type": "execute_result"
    }
   ],
   "source": [
    "import locale\n",
    "locale.setlocale(locale.LC_ALL, \"Turkish_Turkey.1254\") #Windows için\n",
    "# locale.setlocale(locale.LC_ALL, \"tr_TR\") #GNU/Linux için\n",
    "sorted(\"çiçek\", key=locale.strxfrm)"
   ]
  },
  {
   "cell_type": "code",
   "execution_count": 13,
   "metadata": {},
   "outputs": [
    {
     "data": {
      "text/plain": [
       "['__abs__',\n",
       " '__add__',\n",
       " '__bool__',\n",
       " '__class__',\n",
       " '__delattr__',\n",
       " '__dir__',\n",
       " '__divmod__',\n",
       " '__doc__',\n",
       " '__eq__',\n",
       " '__float__',\n",
       " '__floordiv__',\n",
       " '__format__',\n",
       " '__ge__',\n",
       " '__getattribute__',\n",
       " '__getformat__',\n",
       " '__getnewargs__',\n",
       " '__gt__',\n",
       " '__hash__',\n",
       " '__init__',\n",
       " '__init_subclass__',\n",
       " '__int__',\n",
       " '__le__',\n",
       " '__lt__',\n",
       " '__mod__',\n",
       " '__mul__',\n",
       " '__ne__',\n",
       " '__neg__',\n",
       " '__new__',\n",
       " '__pos__',\n",
       " '__pow__',\n",
       " '__radd__',\n",
       " '__rdivmod__',\n",
       " '__reduce__',\n",
       " '__reduce_ex__',\n",
       " '__repr__',\n",
       " '__rfloordiv__',\n",
       " '__rmod__',\n",
       " '__rmul__',\n",
       " '__round__',\n",
       " '__rpow__',\n",
       " '__rsub__',\n",
       " '__rtruediv__',\n",
       " '__set_format__',\n",
       " '__setattr__',\n",
       " '__sizeof__',\n",
       " '__str__',\n",
       " '__sub__',\n",
       " '__subclasshook__',\n",
       " '__truediv__',\n",
       " '__trunc__',\n",
       " 'as_integer_ratio',\n",
       " 'conjugate',\n",
       " 'fromhex',\n",
       " 'hex',\n",
       " 'imag',\n",
       " 'is_integer',\n",
       " 'real']"
      ]
     },
     "execution_count": 13,
     "metadata": {},
     "output_type": "execute_result"
    }
   ],
   "source": [
    "dir(float)"
   ]
  },
  {
   "cell_type": "code",
   "execution_count": 14,
   "metadata": {},
   "outputs": [
    {
     "name": "stdout",
     "output_type": "stream",
     "text": [
      "\n",
      "Ana Menü:\n",
      "(1) Toplama\n",
      "(2) Çıkarma\n",
      "(3) Çarpma\n",
      "(4) Bölme\n",
      "(5) Kare Hesaplama\n",
      "(6) Karekök Hesaplama\n",
      "\n",
      "Yapmak istediğiniz işlemin numarasını giriniz: 1\n",
      "Toplama işlemi için ilk sayı değerini giriniz: 5\n",
      "Toplama işlemi için ikinci sayı değerini giriniz: 15\n",
      "5  +  15  =  20\n"
     ]
    }
   ],
   "source": [
    "karsilama_metni = \"\"\"\n",
    "Ana Menü:\n",
    "(1) Toplama\n",
    "(2) Çıkarma\n",
    "(3) Çarpma\n",
    "(4) Bölme\n",
    "(5) Kare Hesaplama\n",
    "(6) Karekök Hesaplama\n",
    "\"\"\"\n",
    "\n",
    "print(karsilama_metni)\n",
    "\n",
    "cevap = input(\"Yapmak istediğiniz işlemin numarasını giriniz: \")\n",
    "\n",
    "if cevap == \"1\":\n",
    "    sayi1 = int(input(\"Toplama işlemi için ilk sayı değerini giriniz: \"))\n",
    "    sayi2 = int(input(\"Toplama işlemi için ikinci sayı değerini giriniz: \"))\n",
    "    print(sayi1, \" + \", sayi2, \" = \", sayi1 + sayi2)\n",
    "\n",
    "elif cevap == \"2\":\n",
    "    sayi3 = int(input(\"Çıkarma işlemi için ilk sayı değerini giriniz: \"))\n",
    "    sayi4 = int(input(\"Çıkarma işlemi için ikinci sayı değerini giriniz: \"))\n",
    "    print(sayi3, \" - \", sayi4, \" = \", sayi3 - sayi4)\n",
    "\n",
    "elif cevap == \"3\":\n",
    "    sayi5 = int(input(\"Çarpma işlemi için ilk sayı değerini giriniz: \"))\n",
    "    sayi6 = int(input(\"Çarpma işlemi için ikinci sayı değerini giriniz: \"))\n",
    "    print(sayi5, \" x \", sayi6, \" = \", sayi5 * sayi6)\n",
    "\n",
    "elif cevap == \"4\":\n",
    "    sayi7 = int(input(\"Bölme işlemi için ilk sayı değerini giriniz: \"))\n",
    "    sayi8 = int(input(\"Bölme işlemi için ikinci sayı değerini giriniz: \"))\n",
    "    print(sayi7, \" / \", sayi8, \" = \", sayi7 / sayi8)\n",
    "\n",
    "elif cevap == \"5\":\n",
    "    sayi9 = int(input(\"Karesi alınacak olan sayının değerini giriniz: \"))\n",
    "    print(sayi9, \" x \", sayi9, \" = \", sayi9 ** 2)\n",
    "\n",
    "elif cevap == \"6\":\n",
    "    sayi10 = int(input(\"Karekökü alınacak olan sayının değerini giriniz: \"))\n",
    "    print(sayi10, \" sayısının karekökü = \", sayi10 ** 0.5)\n",
    "\n",
    "else:\n",
    "    print(\"Geçersiz bir giriş yaptınız!...\")\n",
    "    print(\"Lütfen geçerli bir giriş yapınız\")\n"
   ]
  },
  {
   "cell_type": "code",
   "execution_count": 15,
   "metadata": {},
   "outputs": [
    {
     "name": "stdout",
     "output_type": "stream",
     "text": [
      "\n",
      "Ana Menü:\n",
      "(1) Toplama\n",
      "(2) Çıkarma\n",
      "(3) Çarpma\n",
      "(4) Bölme\n",
      "(5) Kare Hesaplama\n",
      "(6) Karekök Hesaplama\n",
      "\n",
      "Yapmak istediğiniz işlemin numarasını giriniz (Çıkış için q tuşuna basınız): 4\n",
      "Bölme işlemi için ilk sayı değerini giriniz: 56\n",
      "Bölme işlemi için ikinci sayı değerini giriniz: 4\n",
      "56  /  4  =  14.0\n",
      "Yapmak istediğiniz işlemin numarasını giriniz (Çıkış için q tuşuna basınız): 9\n",
      "Geçersiz bir giriş yaptınız!...\n",
      "Lütfen geçerli bir giriş yapınız\n",
      "Yapmak istediğiniz işlemin numarasını giriniz (Çıkış için q tuşuna basınız): q\n",
      "Uygulamadan çıkılıyor!...\n"
     ]
    }
   ],
   "source": [
    "karsilama_metni = \"\"\"\n",
    "Ana Menü:\n",
    "(1) Toplama\n",
    "(2) Çıkarma\n",
    "(3) Çarpma\n",
    "(4) Bölme\n",
    "(5) Kare Hesaplama\n",
    "(6) Karekök Hesaplama\n",
    "\"\"\"\n",
    "\n",
    "print(karsilama_metni)\n",
    "\n",
    "anahtar = 1\n",
    "\n",
    "while anahtar == 1:\n",
    "\n",
    "    cevap = input(\"Yapmak istediğiniz işlemin numarasını giriniz (Çıkış için q tuşuna basınız): \")\n",
    "\n",
    "    if cevap == \"q\":\n",
    "        print(\"Uygulamadan çıkılıyor!...\")\n",
    "        anahtar = 0\n",
    "        \n",
    "    elif cevap == \"1\":\n",
    "        sayi1 = int(input(\"Toplama işlemi için ilk sayı değerini giriniz: \"))\n",
    "        sayi2 = int(input(\"Toplama işlemi için ikinci sayı değerini giriniz: \"))\n",
    "        print(sayi1, \" + \", sayi2, \" = \", sayi1 + sayi2)\n",
    "\n",
    "    elif cevap == \"2\":\n",
    "        sayi3 = int(input(\"Çıkarma işlemi için ilk sayı değerini giriniz: \"))\n",
    "        sayi4 = int(input(\"Çıkarma işlemi için ikinci sayı değerini giriniz: \"))\n",
    "        print(sayi3, \" - \", sayi4, \" = \", sayi3 - sayi4)\n",
    "\n",
    "    elif cevap == \"3\":\n",
    "        sayi5 = int(input(\"Çarpma işlemi için ilk sayı değerini giriniz: \"))\n",
    "        sayi6 = int(input(\"Çarpma işlemi için ikinci sayı değerini giriniz: \"))\n",
    "        print(sayi5, \" x \", sayi6, \" = \", sayi5 * sayi6)\n",
    "\n",
    "    elif cevap == \"4\":\n",
    "        sayi7 = int(input(\"Bölme işlemi için ilk sayı değerini giriniz: \"))\n",
    "        sayi8 = int(input(\"Bölme işlemi için ikinci sayı değerini giriniz: \"))\n",
    "        print(sayi7, \" / \", sayi8, \" = \", sayi7 / sayi8)\n",
    "\n",
    "    elif cevap == \"5\":\n",
    "        sayi9 = int(input(\"Karesi alınacak olan sayının değerini giriniz: \"))\n",
    "        print(sayi9, \" x \", sayi9, \" = \", sayi9 ** 2)\n",
    "\n",
    "    elif cevap == \"6\":\n",
    "        sayi10 = int(input(\"Karekökü alınacak olan sayının değerini giriniz: \"))\n",
    "        print(sayi10, \" sayısının karekökü = \", sayi10 ** 0.5)\n",
    "\n",
    "    else:\n",
    "        print(\"Geçersiz bir giriş yaptınız!...\")\n",
    "        print(\"Lütfen geçerli bir giriş yapınız\")\n"
   ]
  },
  {
   "cell_type": "code",
   "execution_count": 16,
   "metadata": {},
   "outputs": [
    {
     "name": "stdout",
     "output_type": "stream",
     "text": [
      "Nasılsınız?iyiyim\n",
      "Nasılsınız?iyi\n",
      "Nasılsınız?iyi dedik ya\n",
      "Nasılsınız?q\n",
      "Kusura bakmayın, sizi de çok rahatsız ettim\n"
     ]
    }
   ],
   "source": [
    "# Aksi belirtilmediği sürece kullanıcıya\n",
    "# aşağıdaki soruyu sormaya devam et\n",
    "\n",
    "while True:\n",
    "    cevap = input(\"Nasılsınız?\")\n",
    "    \n",
    "    # eğer kullanıcı 'q' tuşuna basarsa\n",
    "    if cevap == \"q\":\n",
    "        break # döngüyü kır ve çık\n",
    "        \n",
    "print(\"Kusura bakmayın, sizi de çok rahatsız ettim\")"
   ]
  },
  {
   "cell_type": "code",
   "execution_count": 21,
   "metadata": {},
   "outputs": [
    {
     "name": "stdout",
     "output_type": "stream",
     "text": [
      "Parolanız: fdfsfşişişişiş\n",
      "Parolanız Türkçe karakter içeremez!...\n",
      "Parolanız  5 adet Türkçe karakter içermektedir!...\n"
     ]
    }
   ],
   "source": [
    "turkce_karakterler = \"çÇğĞıİöÖşŞüÜ\"\n",
    "\n",
    "parola = input(\"Parolanız: \")\n",
    "\n",
    "bulunma_sayisi = 0\n",
    "\n",
    "for karakter in parola:\n",
    "    if karakter in turkce_karakterler:\n",
    "        bulunma_sayisi += 1\n",
    "        \n",
    "if bulunma_sayisi >= 1:\n",
    "    print(\"Parolanız Türkçe karakter içeremez!...\")\n",
    "        \n",
    "print(\"Parolanız \", bulunma_sayisi, \"adet Türkçe karakter içermektedir!...\")\n"
   ]
  },
  {
   "cell_type": "code",
   "execution_count": 22,
   "metadata": {},
   "outputs": [
    {
     "name": "stdout",
     "output_type": "stream",
     "text": [
      "Bir parola belirleyiniz: \n",
      "Parola boş geçilemez!...\n",
      "Bir parola belirleyiniz: ffff\n",
      "Parola 8 karakterden kısa, 18 karakterden uzun olamaz\n",
      "Bir parola belirleyiniz: hshfhghghhfhgfdhfghgfdhhgfhfdghdfhdfgfdg\n",
      "Parola 8 karakterden kısa, 18 karakterden uzun olamaz\n",
      "Bir parola belirleyiniz: gfgfgfggg\n",
      "Yeni parolanız tanımlanmıştır\n"
     ]
    }
   ],
   "source": [
    "while True:\n",
    "    parola = input(\"Bir parola belirleyiniz: \")\n",
    "    \n",
    "    if not parola:\n",
    "        print(\"Parola boş geçilemez!...\")\n",
    "        \n",
    "    elif len(parola) > 18 or len(parola) < 8:\n",
    "        print(\"Parola 8 karakterden kısa, 18 karakterden uzun olamaz\")\n",
    "        \n",
    "    else:\n",
    "        print(\"Yeni parolanız tanımlanmıştır\")\n",
    "        break\n"
   ]
  },
  {
   "cell_type": "code",
   "execution_count": 25,
   "metadata": {},
   "outputs": [
    {
     "name": "stdout",
     "output_type": "stream",
     "text": [
      "5\n",
      "6\n",
      "7\n",
      "8\n",
      "9\n"
     ]
    }
   ],
   "source": [
    "for indeks in range(5, 10, 1):\n",
    "    print(indeks)"
   ]
  },
  {
   "cell_type": "code",
   "execution_count": 26,
   "metadata": {},
   "outputs": [
    {
     "name": "stdout",
     "output_type": "stream",
     "text": [
      "En fazla 3 haneli bir sayı giriniz: 45\n",
      "En fazla 3 haneli bir sayı giriniz: 567\n",
      "En fazla 3 haneli bir sayı giriniz: 23\n",
      "En fazla 3 haneli bir sayı giriniz: 6767675765\n",
      "En fazla 3 haneli bir sayı girebilirsiniz!...\n",
      "En fazla 3 haneli bir sayı giriniz: iptal\n"
     ]
    }
   ],
   "source": [
    "while True:\n",
    "    sayi = input(\"En fazla 3 haneli bir sayı giriniz: \")\n",
    "    if sayi == \"iptal\":\n",
    "        break\n",
    "        \n",
    "    if len(sayi) <= 3:\n",
    "        continue\n",
    "    \n",
    "    print(\"En fazla 3 haneli bir sayı girebilirsiniz!...\")"
   ]
  },
  {
   "cell_type": "code",
   "execution_count": 31,
   "metadata": {},
   "outputs": [
    {
     "name": "stdout",
     "output_type": "stream",
     "text": [
      "Bölme işlemi için ilk sayı değerini giriniz: 456\n",
      "Bölme işlemi için ikinci sayı değerini giriniz: 0\n"
     ]
    },
    {
     "ename": "ZeroDivisionError",
     "evalue": "division by zero",
     "output_type": "error",
     "traceback": [
      "\u001b[1;31m---------------------------------------------------------------------------\u001b[0m",
      "\u001b[1;31mZeroDivisionError\u001b[0m                         Traceback (most recent call last)",
      "\u001b[1;32m<ipython-input-31-20fdca260186>\u001b[0m in \u001b[0;36m<module>\u001b[1;34m\u001b[0m\n\u001b[0;32m      1\u001b[0m \u001b[0msayi1\u001b[0m \u001b[1;33m=\u001b[0m \u001b[0mint\u001b[0m\u001b[1;33m(\u001b[0m\u001b[0minput\u001b[0m\u001b[1;33m(\u001b[0m\u001b[1;34m\"Bölme işlemi için ilk sayı değerini giriniz: \"\u001b[0m\u001b[1;33m)\u001b[0m\u001b[1;33m)\u001b[0m\u001b[1;33m\u001b[0m\u001b[1;33m\u001b[0m\u001b[0m\n\u001b[0;32m      2\u001b[0m \u001b[0msayi2\u001b[0m \u001b[1;33m=\u001b[0m \u001b[0mint\u001b[0m\u001b[1;33m(\u001b[0m\u001b[0minput\u001b[0m\u001b[1;33m(\u001b[0m\u001b[1;34m\"Bölme işlemi için ikinci sayı değerini giriniz: \"\u001b[0m\u001b[1;33m)\u001b[0m\u001b[1;33m)\u001b[0m\u001b[1;33m\u001b[0m\u001b[1;33m\u001b[0m\u001b[0m\n\u001b[1;32m----> 3\u001b[1;33m \u001b[0mprint\u001b[0m\u001b[1;33m(\u001b[0m\u001b[0msayi1\u001b[0m\u001b[1;33m,\u001b[0m \u001b[1;34m\" / \"\u001b[0m\u001b[1;33m,\u001b[0m \u001b[0msayi2\u001b[0m\u001b[1;33m,\u001b[0m \u001b[1;34m\" = \"\u001b[0m\u001b[1;33m,\u001b[0m \u001b[0msayi1\u001b[0m \u001b[1;33m/\u001b[0m \u001b[0msayi2\u001b[0m\u001b[1;33m)\u001b[0m\u001b[1;33m\u001b[0m\u001b[1;33m\u001b[0m\u001b[0m\n\u001b[0m",
      "\u001b[1;31mZeroDivisionError\u001b[0m: division by zero"
     ]
    }
   ],
   "source": [
    "sayi1 = int(input(\"Bölme işlemi için ilk sayı değerini giriniz: \"))\n",
    "sayi2 = int(input(\"Bölme işlemi için ikinci sayı değerini giriniz: \"))\n",
    "print(sayi1, \" / \", sayi2, \" = \", sayi1 / sayi2)"
   ]
  },
  {
   "cell_type": "code",
   "execution_count": 30,
   "metadata": {},
   "outputs": [
    {
     "name": "stdout",
     "output_type": "stream",
     "text": [
      "Bölme işlemi için ilk sayı değerini giriniz: 456\n",
      "Bölme işlemi için ikinci sayı değerini giriniz: ahmet\n",
      "Lütfen sadece sayı girin!...\n"
     ]
    }
   ],
   "source": [
    "sayi1 = input(\"Bölme işlemi için ilk sayı değerini giriniz: \")\n",
    "sayi2 = input(\"Bölme işlemi için ikinci sayı değerini giriniz: \")\n",
    "\n",
    "# try .....   except\n",
    "\n",
    "try:\n",
    "    ilk_sayi = int(sayi1)\n",
    "    ikinci_sayi = int(sayi2)\n",
    "    print(ilk_sayi, \"/\", ikinci_sayi, \"=\", ilk_sayi / ikinci_sayi)\n",
    "except ValueError:\n",
    "    print(\"Lütfen sadece sayı girin!...\")\n",
    "    "
   ]
  },
  {
   "cell_type": "code",
   "execution_count": null,
   "metadata": {},
   "outputs": [],
   "source": [
    "sayi1 = input(\"Bölme işlemi için ilk sayı değerini giriniz: \")\n",
    "sayi2 = input(\"Bölme işlemi için ikinci sayı değerini giriniz: \")\n",
    "\n",
    "# try .....   except\n",
    "\n",
    "try:\n",
    "    ilk_sayi = int(sayi1)\n",
    "    ikinci_sayi = int(sayi2)\n",
    "    print(ilk_sayi, \"/\", ikinci_sayi, \"=\", ilk_sayi / ikinci_sayi)\n",
    "except ZeroDivisionError:\n",
    "    print(\"Bir sayıyı 0'a bölemezsiniz!...\")"
   ]
  },
  {
   "cell_type": "code",
   "execution_count": 33,
   "metadata": {},
   "outputs": [
    {
     "name": "stdout",
     "output_type": "stream",
     "text": [
      "Bölme işlemi için ilk sayı değerini giriniz: ahmet\n",
      "Bölme işlemi için ikinci sayı değerini giriniz: 1\n",
      "Lütfen bir sayı giriniz!...\n"
     ]
    }
   ],
   "source": [
    "sayi1 = input(\"Bölme işlemi için ilk sayı değerini giriniz: \")\n",
    "sayi2 = input(\"Bölme işlemi için ikinci sayı değerini giriniz: \")\n",
    "\n",
    "# try .....   except\n",
    "\n",
    "try:\n",
    "    ilk_sayi = int(sayi1)\n",
    "    ikinci_sayi = int(sayi2)\n",
    "    print(ilk_sayi, \"/\", ikinci_sayi, \"=\", ilk_sayi / ikinci_sayi)\n",
    "except ZeroDivisionError:\n",
    "    print(\"Bir sayıyı 0'a bölemezsiniz!...\")\n",
    "except ValueError:\n",
    "    print(\"Lütfen bir sayı giriniz!...\")"
   ]
  },
  {
   "cell_type": "code",
   "execution_count": 36,
   "metadata": {},
   "outputs": [
    {
     "name": "stdout",
     "output_type": "stream",
     "text": [
      "Bölme işlemi için ilk sayı değerini giriniz: ahmet\n",
      "Bölme işlemi için ikinci sayı değerini giriniz: 0\n",
      "Bir Hata Oluştu!...\n",
      "Orijinal Hata Mesajı:  invalid literal for int() with base 10: 'ahmet'\n"
     ]
    }
   ],
   "source": [
    "sayi1 = input(\"Bölme işlemi için ilk sayı değerini giriniz: \")\n",
    "sayi2 = input(\"Bölme işlemi için ikinci sayı değerini giriniz: \")\n",
    "\n",
    "# try .....   except ....    as\n",
    "\n",
    "try:\n",
    "    ilk_sayi = int(sayi1)\n",
    "    ikinci_sayi = int(sayi2)\n",
    "    print(ilk_sayi, \"/\", ikinci_sayi, \"=\", ilk_sayi / ikinci_sayi)\n",
    "except (ValueError, ZeroDivisionError) as hata_metni:\n",
    "    print(\"Bir Hata Oluştu!...\")\n",
    "    print(\"Orijinal Hata Mesajı: \", hata_metni)"
   ]
  },
  {
   "cell_type": "code",
   "execution_count": 3,
   "metadata": {},
   "outputs": [
    {
     "data": {
      "text/plain": [
       "['i', 'i', 'k', 'l', 'ç', 'ğ']"
      ]
     },
     "execution_count": 3,
     "metadata": {},
     "output_type": "execute_result"
    }
   ],
   "source": [
    "sorted(\"çiğlik\")"
   ]
  },
  {
   "cell_type": "code",
   "execution_count": 4,
   "metadata": {},
   "outputs": [
    {
     "data": {
      "text/plain": [
       "['ç', 'ğ', 'i', 'i', 'k', 'l']"
      ]
     },
     "execution_count": 4,
     "metadata": {},
     "output_type": "execute_result"
    }
   ],
   "source": [
    "import locale\n",
    "locale.setlocale(locale.LC_ALL, \"Turkish_Turkey.1254\")   # Windows için\n",
    "# locale.setlocale(locale.LC_ALL, \"tr_TR\")   # GNU/Linux için\n",
    "sorted(\"çiğlik\", key=locale.strxfrm)\n"
   ]
  },
  {
   "cell_type": "code",
   "execution_count": null,
   "metadata": {},
   "outputs": [],
   "source": []
  }
 ],
 "metadata": {
  "kernelspec": {
   "display_name": "Python 3",
   "language": "python",
   "name": "python3"
  },
  "language_info": {
   "codemirror_mode": {
    "name": "ipython",
    "version": 3
   },
   "file_extension": ".py",
   "mimetype": "text/x-python",
   "name": "python",
   "nbconvert_exporter": "python",
   "pygments_lexer": "ipython3",
   "version": "3.8.5"
  }
 },
 "nbformat": 4,
 "nbformat_minor": 4
}
