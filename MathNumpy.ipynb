{
 "cells": [
  {
   "cell_type": "code",
   "execution_count": 1,
   "metadata": {},
   "outputs": [
    {
     "name": "stdout",
     "output_type": "stream",
     "text": [
      " e     x      x**2   isinf \n",
      "---  ------  ------  ------\n",
      "  0  1.0     1.0     False \n",
      " 10  10000000000.0  1e+20   False \n",
      " 20  1e+20   1e+40   False \n",
      " 30  1e+30   1.0000000000000001e+60  False \n",
      " 40  1e+40   1e+80   False \n",
      " 50  1e+50   1.0000000000000002e+100  False \n",
      " 60  1e+60   9.999999999999998e+119  False \n",
      " 70  1e+70   1e+140  False \n",
      " 80  1e+80   1e+160  False \n",
      " 90  1e+90   9.999999999999999e+179  False \n",
      "100  1e+100  1e+200  False \n",
      "110  1e+110  1e+220  False \n",
      "120  1e+120  1e+240  False \n",
      "130  1e+130  1e+260  False \n",
      "140  1e+140  1e+280  False \n",
      "150  1e+150  9.999999999999999e+299  False \n",
      "160  1e+160  inf     True  \n",
      "170  1e+170  inf     True  \n",
      "180  1e+180  inf     True  \n",
      "190  1e+190  inf     True  \n",
      "200  1e+200  inf     True  \n"
     ]
    }
   ],
   "source": [
    "import math\n",
    "\n",
    "# {:^3} şu manaya geliyor. 3 karakterlik bir yer aç ve yazacağın metni ortala\n",
    "# {:>3} şu manaya geliyor. 3 karakterlik bir yer aç ve yazacağın metni sağa yasla\n",
    "# {:<3} şu manaya geliyor. 3 karakterlik bir yer aç ve yazacağın metni sola yasla\n",
    "\n",
    "print ('{:^3}  {:^6}  {:^6}  {:^6}'.format('e', 'x', 'x**2', 'isinf'))\n",
    "print ('{:-^3}  {:-^6}  {:-^6}  {:-^6}'.format('', '', '', ''))\n",
    "\n",
    "for e in range(0, 201, 10):\n",
    "    x = 10.0 ** e\n",
    "    y = x*x\n",
    "    print ('{:3d}  {!s:6}  {!s:6}  {!s:6}'.format(e, x, y, math.isinf(y)))"
   ]
  },
  {
   "cell_type": "code",
   "execution_count": 5,
   "metadata": {},
   "outputs": [
    {
     "name": "stdout",
     "output_type": "stream",
     "text": [
      "      x        m        e\n",
      "-------  -------  -------\n",
      "   0.01     0.64       -6\n",
      "   0.10     0.80       -3\n",
      "   0.50     0.50        0\n",
      "   1.00     0.50        1\n",
      "   2.00     0.50        2\n",
      "   3.00     0.75        2\n",
      "   4.00     0.50        3\n",
      "   5.00     0.62        3\n"
     ]
    }
   ],
   "source": [
    "import math\n",
    "\n",
    "print ('{:>7}  {:>7}  {:>7}'.format('x', 'm', 'e'))\n",
    "print ('{:-^7}  {:-^7}  {:-^7}'.format('', '', ''))\n",
    "\n",
    "# frexp() fonksiyonu x = m * 2**e formülü uyarınca \n",
    "# verilen x değeri için m ve e değerlerini döndürür\n",
    "\n",
    "for x in [ 0.01, 0.1, 0.5, 1.0, 2.0, 3.0, 4.0, 5.0]:\n",
    "    m, e = math.frexp(x)\n",
    "    print ('{:7.2f}  {:7.2f}  {:7d}'.format(x, m, e))"
   ]
  },
  {
   "cell_type": "code",
   "execution_count": 11,
   "metadata": {},
   "outputs": [
    {
     "name": "stdout",
     "output_type": "stream",
     "text": [
      "Girdi Değerleri: [0.1, 0.1, 0.1, 0.1, 0.1, 0.1, 0.1, 0.1, 0.1, 0.1]\n",
      "sum() fonksiyonu çıktısı       : 0.99999999999999988898\n",
      "for döngüsü çıktısı            : 0.99999999999999988898\n",
      "math.fsum() fonksiyonu çıktısı : 1.00000000000000000000\n"
     ]
    }
   ],
   "source": [
    "import math\n",
    "\n",
    "degerler = [ 0.1 ] * 10\n",
    "\n",
    "print ('Girdi Değerleri:', degerler)\n",
    "\n",
    "# built-in sum() fonksiyonu ile hesaplama \n",
    "print ('sum() fonksiyonu çıktısı       : {:.20f}'.format(sum(degerler)))\n",
    "\n",
    "# for döngüsü ile yapılan hesaplama \n",
    "toplam = 0.0\n",
    "for indeks in degerler:\n",
    "    toplam += indeks\n",
    "print ('for döngüsü çıktısı            : {:.20f}'.format(toplam))\n",
    "    \n",
    "# math modülü içerisindeki fsum() fonksiyonu ile hesaplama \n",
    "print ('math.fsum() fonksiyonu çıktısı : {:.20f}'.format(math.fsum(degerler)))"
   ]
  },
  {
   "cell_type": "code",
   "execution_count": 12,
   "metadata": {},
   "outputs": [
    {
     "name": "stdout",
     "output_type": "stream",
     "text": [
      "i        x               doğru                az doğru        uyumsuzluk\n",
      "--  ------------  --------------------  --------------------  --------\n",
      " 0           1.0  0.000000000000000000  0.000000000000000000       \n",
      " 1          10.0  1.000000000000000000  1.000000000000000000       \n",
      " 2         100.0  2.000000000000000000  2.000000000000000000       \n",
      " 3        1000.0  3.000000000000000000  2.999999999999999556    *  \n",
      " 4       10000.0  4.000000000000000000  4.000000000000000000       \n",
      " 5      100000.0  5.000000000000000000  5.000000000000000000       \n",
      " 6     1000000.0  6.000000000000000000  5.999999999999999112    *  \n",
      " 7    10000000.0  7.000000000000000000  7.000000000000000000       \n",
      " 8   100000000.0  8.000000000000000000  8.000000000000000000       \n",
      " 9  1000000000.0  9.000000000000000000  8.999999999999998224    *  \n"
     ]
    }
   ],
   "source": [
    "import math\n",
    "\n",
    "print ('{:2}  {:^12}  {:^20}  {:^20}  {:8}'.format('i', 'x', 'doğru', 'az doğru', 'uyumsuzluk'))\n",
    "print ('{:-^2}  {:-^12}  {:-^20}  {:-^20}  {:-^8}'.format('', '', '', '', ''))\n",
    "\n",
    "for indeks in range(0, 10):\n",
    "    x = math.pow(10, indeks)\n",
    "    dogru_deger = math.log10(x)    # 10 tabanında logaritma fonksiyonu\n",
    "    az_dogru_deger = math.log(x, 10)   # genel logaritma fonksiyonunu taban = 10 olacak şekilde\n",
    "    \n",
    "    if int(az_dogru_deger) == indeks:\n",
    "        uyumsuzluk = ''\n",
    "    else:\n",
    "        uyumsuzluk = '*'\n",
    "    # aynı if/else ifadesini, alternatif olarak tek satırda da yazabilirdik. Şu şekilde: \n",
    "    # uyumsuzluk = '' if int(az_dogru_deger) == indeks else '*'\n",
    "    \n",
    "    print ('{:2d}  {:12.1f}  {:20.18f}  {:20.18f}  {:^5}'.format(indeks, x, dogru_deger, az_dogru_deger, uyumsuzluk))\n",
    "    "
   ]
  },
  {
   "cell_type": "code",
   "execution_count": 19,
   "metadata": {},
   "outputs": [
    {
     "name": "stdout",
     "output_type": "stream",
     "text": [
      "Derece   Radyan   Sinüs    Kosinüs   Tanjant\n",
      "-------  -------  -------  --------  -------\n",
      "   0.00     0.00     0.00     1.00     0.00\n",
      "  30.00     0.52     0.50     0.87     0.58\n",
      "  60.00     1.05     0.87     0.50     1.73\n",
      "  90.00     1.57     1.00     0.00      inf\n",
      " 120.00     2.09     0.87    -0.50    -1.73\n",
      " 150.00     2.62     0.50    -0.87    -0.58\n",
      " 180.00     3.14     0.00    -1.00    -0.00\n",
      " 210.00     3.67    -0.50    -0.87     0.58\n",
      " 240.00     4.19    -0.87    -0.50     1.73\n",
      " 270.00     4.71    -1.00    -0.00      inf\n",
      " 300.00     5.24    -0.87     0.50    -1.73\n",
      " 330.00     5.76    -0.50     0.87    -0.58\n",
      " 360.00     6.28    -0.00     1.00    -0.00\n"
     ]
    }
   ],
   "source": [
    "import math\n",
    "\n",
    "print ('Derece   Radyan   Sinüs    Kosinüs   Tanjant')\n",
    "print ('-------  -------  -------  --------  -------')\n",
    "\n",
    "fmt = '  '.join(['%7.2f'] * 5)\n",
    "\n",
    "for derece in range(0, 361, 30):\n",
    "    radyan = math.radians(derece)\n",
    "    if derece in (90, 270):\n",
    "        tanjant = float('inf')\n",
    "    else:\n",
    "        tanjant = math.tan(radyan)\n",
    "    print (fmt % (derece, radyan, math.sin(radyan), math.cos(radyan), tanjant))"
   ]
  },
  {
   "cell_type": "code",
   "execution_count": 1,
   "metadata": {},
   "outputs": [],
   "source": [
    "import numpy as np"
   ]
  },
  {
   "cell_type": "code",
   "execution_count": 2,
   "metadata": {},
   "outputs": [
    {
     "name": "stdout",
     "output_type": "stream",
     "text": [
      "[2, 3, 4, 5, 6]\n"
     ]
    }
   ],
   "source": [
    "x = [2, 3, 4, 5, 6]\n",
    "print(x)"
   ]
  },
  {
   "cell_type": "code",
   "execution_count": 3,
   "metadata": {},
   "outputs": [
    {
     "ename": "TypeError",
     "evalue": "can only concatenate list (not \"int\") to list",
     "output_type": "error",
     "traceback": [
      "\u001b[1;31m---------------------------------------------------------------------------\u001b[0m",
      "\u001b[1;31mTypeError\u001b[0m                                 Traceback (most recent call last)",
      "\u001b[1;32m<ipython-input-3-cb719eede178>\u001b[0m in \u001b[0;36m<module>\u001b[1;34m\u001b[0m\n\u001b[1;32m----> 1\u001b[1;33m \u001b[0my\u001b[0m \u001b[1;33m=\u001b[0m \u001b[0mx\u001b[0m \u001b[1;33m+\u001b[0m \u001b[1;36m10\u001b[0m\u001b[1;33m\u001b[0m\u001b[1;33m\u001b[0m\u001b[0m\n\u001b[0m",
      "\u001b[1;31mTypeError\u001b[0m: can only concatenate list (not \"int\") to list"
     ]
    }
   ],
   "source": [
    "y = x + 10"
   ]
  },
  {
   "cell_type": "code",
   "execution_count": null,
   "metadata": {},
   "outputs": [],
   "source": []
  },
  {
   "cell_type": "code",
   "execution_count": 7,
   "metadata": {},
   "outputs": [
    {
     "name": "stdout",
     "output_type": "stream",
     "text": [
      "[2, 3, 4, 5, 6]\n",
      "[12, 13, 14, 15, 16]\n"
     ]
    }
   ],
   "source": [
    "x = [2, 3, 4, 5, 6]\n",
    "print(x)\n",
    "y = [a + 10 for a in x]\n",
    "print(y)"
   ]
  },
  {
   "cell_type": "code",
   "execution_count": 8,
   "metadata": {},
   "outputs": [
    {
     "name": "stdout",
     "output_type": "stream",
     "text": [
      "[2 3 4 5 6]\n",
      "[12 13 14 15 16]\n"
     ]
    }
   ],
   "source": [
    "ilk_liste = np.array([2, 3, 4, 5, 6])\n",
    "print(ilk_liste)\n",
    "ikinci_liste = ilk_liste + 10\n",
    "print(ikinci_liste)"
   ]
  },
  {
   "cell_type": "code",
   "execution_count": 9,
   "metadata": {},
   "outputs": [
    {
     "name": "stdout",
     "output_type": "stream",
     "text": [
      "[[ 2  3  4]\n",
      " [ 5  6  7]\n",
      " [ 8  9 10]]\n"
     ]
    }
   ],
   "source": [
    "yeni_liste = np.array([[2,3,4],[5,6,7],[8,9,10]])\n",
    "print(yeni_liste)"
   ]
  },
  {
   "cell_type": "code",
   "execution_count": 11,
   "metadata": {},
   "outputs": [
    {
     "name": "stdout",
     "output_type": "stream",
     "text": [
      "[17 15 13 11  9  7  5  3]\n"
     ]
    }
   ],
   "source": [
    "yepyeni_liste = np.arange(17, 2, -2)\n",
    "print(yepyeni_liste)"
   ]
  },
  {
   "cell_type": "code",
   "execution_count": 12,
   "metadata": {},
   "outputs": [
    {
     "name": "stdout",
     "output_type": "stream",
     "text": [
      "[0. 0. 0. 0. 0.]\n"
     ]
    }
   ],
   "source": [
    "sifir_listesi = np.zeros(5)\n",
    "print(sifir_listesi)"
   ]
  },
  {
   "cell_type": "code",
   "execution_count": 13,
   "metadata": {},
   "outputs": [
    {
     "name": "stdout",
     "output_type": "stream",
     "text": [
      "[1. 1. 1. 1. 1.]\n"
     ]
    }
   ],
   "source": [
    "bir_listesi = np.ones(5)\n",
    "print(bir_listesi)"
   ]
  },
  {
   "cell_type": "code",
   "execution_count": 15,
   "metadata": {},
   "outputs": [
    {
     "name": "stdout",
     "output_type": "stream",
     "text": [
      "[[0. 0. 0. 0.]\n",
      " [0. 0. 0. 0.]\n",
      " [0. 0. 0. 0.]\n",
      " [0. 0. 0. 0.]\n",
      " [0. 0. 0. 0.]]\n"
     ]
    }
   ],
   "source": [
    "sifir_listesi2 = np.zeros((5,4))\n",
    "print(sifir_listesi2)"
   ]
  },
  {
   "cell_type": "code",
   "execution_count": 19,
   "metadata": {},
   "outputs": [
    {
     "name": "stdout",
     "output_type": "stream",
     "text": [
      "[ 1.    1.45  1.9   2.35  2.8   3.25  3.7   4.15  4.6   5.05  5.5   5.95\n",
      "  6.4   6.85  7.3   7.75  8.2   8.65  9.1   9.55 10.  ]\n"
     ]
    }
   ],
   "source": [
    "lineer = np.linspace(1, 10, 21)\n",
    "print(lineer)"
   ]
  },
  {
   "cell_type": "code",
   "execution_count": 4,
   "metadata": {},
   "outputs": [
    {
     "name": "stdout",
     "output_type": "stream",
     "text": [
      "[1.e-03 1.e-02 1.e-01 1.e+00 1.e+01 1.e+02 1.e+03]\n"
     ]
    }
   ],
   "source": [
    "logaritmik = np.logspace(-3, 3, 7)\n",
    "print(logaritmik)"
   ]
  },
  {
   "cell_type": "code",
   "execution_count": 20,
   "metadata": {},
   "outputs": [
    {
     "name": "stdout",
     "output_type": "stream",
     "text": [
      "[[1. 0. 0. 0. 0.]\n",
      " [0. 1. 0. 0. 0.]\n",
      " [0. 0. 1. 0. 0.]\n",
      " [0. 0. 0. 1. 0.]\n",
      " [0. 0. 0. 0. 1.]]\n"
     ]
    }
   ],
   "source": [
    "birim_matris = np.eye(5)\n",
    "print(birim_matris)"
   ]
  },
  {
   "cell_type": "code",
   "execution_count": 25,
   "metadata": {},
   "outputs": [
    {
     "name": "stdout",
     "output_type": "stream",
     "text": [
      "[[0.90794215 0.66798374 0.70963244 0.21103285]\n",
      " [0.10248869 0.39727241 0.30985227 0.97983939]\n",
      " [0.53016944 0.55382961 0.29102901 0.64500587]\n",
      " [0.46855102 0.12355264 0.85775976 0.14123159]\n",
      " [0.3145649  0.39628827 0.5287441  0.68924733]]\n"
     ]
    }
   ],
   "source": [
    "rastgele_dizi = np.random.rand(5,4) # her biri 0-1 arasında düzgün dağılıma uygun rastgele sayı\n",
    "print(rastgele_dizi)"
   ]
  },
  {
   "cell_type": "code",
   "execution_count": 26,
   "metadata": {},
   "outputs": [
    {
     "name": "stdout",
     "output_type": "stream",
     "text": [
      "[[ 3.89949013e-04  6.49944997e-01  8.01005092e-02]\n",
      " [-1.16530697e+00  8.70785796e-01  3.30162668e-01]]\n"
     ]
    }
   ],
   "source": [
    "rastgele_dizi2 = np.random.randn(2,3) # her biri, ortalaması 0 ve std. sapması 1'e eşit Gauss dağılımına uygun rastgele sayı\n",
    "print(rastgele_dizi2)\n"
   ]
  },
  {
   "cell_type": "code",
   "execution_count": 28,
   "metadata": {},
   "outputs": [
    {
     "name": "stdout",
     "output_type": "stream",
     "text": [
      "[[35.64255224 35.87440789 27.77157513]\n",
      " [28.73179351 24.05041513 31.96873953]]\n"
     ]
    }
   ],
   "source": [
    "rastgele_dizi3 = 30 + (5 * np.random.randn(2,3)) \n",
    "# her biri, ortalaması 30 ve std. sapması 5'e eşit Gauss dağılımına uygun rastgele sayı\n",
    "print(rastgele_dizi3)\n"
   ]
  },
  {
   "cell_type": "code",
   "execution_count": 29,
   "metadata": {},
   "outputs": [
    {
     "name": "stdout",
     "output_type": "stream",
     "text": [
      "[87 75 99 85 76]\n"
     ]
    }
   ],
   "source": [
    "rastgele_dizi4 = np.random.randint(50, 100, 5) # her biri 50 ile 100 arasında düzgün dağılıma uyan tam sayı \n",
    "print(rastgele_dizi4) "
   ]
  },
  {
   "cell_type": "code",
   "execution_count": 2,
   "metadata": {},
   "outputs": [
    {
     "name": "stdout",
     "output_type": "stream",
     "text": [
      "[ 1  2  3  4  5  6  7  8  9 10 11 12 13 14 15 16]\n"
     ]
    }
   ],
   "source": [
    "import numpy as np\n",
    "matrisimiz = np.arange(1,17)\n",
    "print(matrisimiz)"
   ]
  },
  {
   "cell_type": "code",
   "execution_count": 6,
   "metadata": {},
   "outputs": [
    {
     "name": "stdout",
     "output_type": "stream",
     "text": [
      "[[ 1  2]\n",
      " [ 3  4]\n",
      " [ 5  6]\n",
      " [ 7  8]\n",
      " [ 9 10]\n",
      " [11 12]\n",
      " [13 14]\n",
      " [15 16]]\n"
     ]
    }
   ],
   "source": [
    "matrisimiz2 = matrisimiz.reshape(8,2)\n",
    "print(matrisimiz2)"
   ]
  },
  {
   "cell_type": "code",
   "execution_count": 12,
   "metadata": {},
   "outputs": [
    {
     "name": "stdout",
     "output_type": "stream",
     "text": [
      "[66 88 59 47 62 70 57  6 17 45]\n"
     ]
    }
   ],
   "source": [
    "rastgele_matris = np.random.randint(1, 100, 10)\n",
    "print(rastgele_matris)"
   ]
  },
  {
   "cell_type": "code",
   "execution_count": 13,
   "metadata": {},
   "outputs": [
    {
     "name": "stdout",
     "output_type": "stream",
     "text": [
      "6\n",
      "7\n",
      "88\n",
      "1\n"
     ]
    }
   ],
   "source": [
    "minimum_deger = rastgele_matris.min()\n",
    "print(minimum_deger)\n",
    "print(rastgele_matris.argmin())\n",
    "maksimum_deger = rastgele_matris.max()\n",
    "print(maksimum_deger)\n",
    "print(rastgele_matris.argmax())\n"
   ]
  },
  {
   "cell_type": "code",
   "execution_count": 14,
   "metadata": {},
   "outputs": [
    {
     "name": "stdout",
     "output_type": "stream",
     "text": [
      "59\n"
     ]
    }
   ],
   "source": [
    "print(rastgele_matris[2])"
   ]
  },
  {
   "cell_type": "code",
   "execution_count": 15,
   "metadata": {},
   "outputs": [
    {
     "name": "stdout",
     "output_type": "stream",
     "text": [
      "[59 47 62]\n"
     ]
    }
   ],
   "source": [
    "print(rastgele_matris[2:5])"
   ]
  },
  {
   "cell_type": "code",
   "execution_count": 16,
   "metadata": {},
   "outputs": [
    {
     "name": "stdout",
     "output_type": "stream",
     "text": [
      "[59 47 62]\n"
     ]
    }
   ],
   "source": [
    "rastgele_alt_matris = rastgele_matris[2:5]\n",
    "print(rastgele_alt_matris)"
   ]
  },
  {
   "cell_type": "code",
   "execution_count": 18,
   "metadata": {},
   "outputs": [
    {
     "name": "stdout",
     "output_type": "stream",
     "text": [
      "[[1 2 3]\n",
      " [4 5 6]\n",
      " [7 8 9]]\n"
     ]
    }
   ],
   "source": [
    "iki_boyutlu_dizi = np.array(([1,2,3],[4,5,6],[7,8,9]))\n",
    "print(iki_boyutlu_dizi)"
   ]
  },
  {
   "cell_type": "code",
   "execution_count": 19,
   "metadata": {},
   "outputs": [
    {
     "name": "stdout",
     "output_type": "stream",
     "text": [
      "9\n"
     ]
    }
   ],
   "source": [
    "print(iki_boyutlu_dizi[2,2])"
   ]
  },
  {
   "cell_type": "code",
   "execution_count": 20,
   "metadata": {},
   "outputs": [
    {
     "name": "stdout",
     "output_type": "stream",
     "text": [
      "[3 6 9]\n"
     ]
    }
   ],
   "source": [
    "print(iki_boyutlu_dizi[:,2])"
   ]
  },
  {
   "cell_type": "code",
   "execution_count": 21,
   "metadata": {},
   "outputs": [
    {
     "name": "stdout",
     "output_type": "stream",
     "text": [
      "[4 5 6]\n"
     ]
    }
   ],
   "source": [
    "print(iki_boyutlu_dizi[1,:])"
   ]
  },
  {
   "cell_type": "code",
   "execution_count": 22,
   "metadata": {},
   "outputs": [
    {
     "name": "stdout",
     "output_type": "stream",
     "text": [
      "[[1 2]\n",
      " [4 5]]\n"
     ]
    }
   ],
   "source": [
    "print(iki_boyutlu_dizi[:2,:2])"
   ]
  },
  {
   "cell_type": "code",
   "execution_count": 27,
   "metadata": {},
   "outputs": [
    {
     "name": "stdout",
     "output_type": "stream",
     "text": [
      "[ 1  2  3  4  5  6  7  8  9 10 11 12 13 14 15 16]\n",
      "[17 16 15 14 13 12 11 10  9  8  7  6  5  4  3  2]\n"
     ]
    }
   ],
   "source": [
    "ilk_dizi = np.arange(1,17,1)\n",
    "ikinci_dizi = np.arange(17,1,-1)\n",
    "print(ilk_dizi)\n",
    "print(ikinci_dizi)\n"
   ]
  },
  {
   "cell_type": "code",
   "execution_count": 28,
   "metadata": {},
   "outputs": [
    {
     "name": "stdout",
     "output_type": "stream",
     "text": [
      "[18 18 18 18 18 18 18 18 18 18 18 18 18 18 18 18]\n"
     ]
    }
   ],
   "source": [
    "ucuncu_dizi = ilk_dizi + ikinci_dizi\n",
    "print(ucuncu_dizi)"
   ]
  },
  {
   "cell_type": "code",
   "execution_count": 29,
   "metadata": {},
   "outputs": [
    {
     "name": "stdout",
     "output_type": "stream",
     "text": [
      "[26 27 28 29 30 31 32 33 34 35 36 37 38 39 40 41]\n"
     ]
    }
   ],
   "source": [
    "dorduncu_dizi = ilk_dizi + 25\n",
    "print(dorduncu_dizi)"
   ]
  },
  {
   "cell_type": "code",
   "execution_count": 30,
   "metadata": {},
   "outputs": [
    {
     "name": "stdout",
     "output_type": "stream",
     "text": [
      "[0.         0.69314718 1.09861229 1.38629436 1.60943791 1.79175947\n",
      " 1.94591015 2.07944154 2.19722458 2.30258509 2.39789527 2.48490665\n",
      " 2.56494936 2.63905733 2.7080502  2.77258872]\n"
     ]
    }
   ],
   "source": [
    "log_ilk_dizi = np.log(ilk_dizi)\n",
    "print(log_ilk_dizi)"
   ]
  },
  {
   "cell_type": "code",
   "execution_count": 31,
   "metadata": {},
   "outputs": [
    {
     "name": "stdout",
     "output_type": "stream",
     "text": [
      "[2.71828183e+00 7.38905610e+00 2.00855369e+01 5.45981500e+01\n",
      " 1.48413159e+02 4.03428793e+02 1.09663316e+03 2.98095799e+03\n",
      " 8.10308393e+03 2.20264658e+04 5.98741417e+04 1.62754791e+05\n",
      " 4.42413392e+05 1.20260428e+06 3.26901737e+06 8.88611052e+06]\n"
     ]
    }
   ],
   "source": [
    "exp_ilk_dizi = np.exp(ilk_dizi)\n",
    "print(exp_ilk_dizi)"
   ]
  },
  {
   "cell_type": "code",
   "execution_count": 32,
   "metadata": {},
   "outputs": [
    {
     "name": "stdout",
     "output_type": "stream",
     "text": [
      "[1.         1.41421356 1.73205081 2.         2.23606798 2.44948974\n",
      " 2.64575131 2.82842712 3.         3.16227766 3.31662479 3.46410162\n",
      " 3.60555128 3.74165739 3.87298335 4.        ]\n"
     ]
    }
   ],
   "source": [
    "kok_ilk_dizi = np.sqrt(ilk_dizi)\n",
    "print(kok_ilk_dizi)"
   ]
  },
  {
   "cell_type": "code",
   "execution_count": 33,
   "metadata": {},
   "outputs": [
    {
     "name": "stdout",
     "output_type": "stream",
     "text": [
      "[ 0.84147098  0.90929743  0.14112001 -0.7568025  -0.95892427 -0.2794155\n",
      "  0.6569866   0.98935825  0.41211849 -0.54402111 -0.99999021 -0.53657292\n",
      "  0.42016704  0.99060736  0.65028784 -0.28790332]\n"
     ]
    }
   ],
   "source": [
    "sin_ilk_dizi = np.sin(ilk_dizi)\n",
    "print(sin_ilk_dizi)"
   ]
  },
  {
   "cell_type": "code",
   "execution_count": 39,
   "metadata": {},
   "outputs": [
    {
     "name": "stdout",
     "output_type": "stream",
     "text": [
      "[0 1 1 2 2 3 3 4 4 5 5 6 6 7 7 8]\n"
     ]
    }
   ],
   "source": [
    "carp_ilk_dizi = ilk_dizi // 2\n",
    "print(carp_ilk_dizi)"
   ]
  },
  {
   "cell_type": "code",
   "execution_count": 42,
   "metadata": {},
   "outputs": [
    {
     "name": "stdout",
     "output_type": "stream",
     "text": [
      "[ 1  2  3  4  5  6  7  8  9 10 11 12 13 14 15 16]\n",
      "[17 16 15 14 13 12 11 10  9  8  7  6  5  4  3  2]\n",
      "[17 32 45 56 65 72 77 80 81 80 77 72 65 56 45 32]\n",
      "952\n"
     ]
    }
   ],
   "source": [
    "print(ilk_dizi)\n",
    "print(ikinci_dizi)\n",
    "dizi_carpimi = ilk_dizi * ikinci_dizi\n",
    "print(dizi_carpimi)\n",
    "print(dizi_carpimi.sum())"
   ]
  },
  {
   "cell_type": "code",
   "execution_count": 43,
   "metadata": {},
   "outputs": [
    {
     "name": "stdout",
     "output_type": "stream",
     "text": [
      "952\n"
     ]
    }
   ],
   "source": [
    "print(ilk_dizi.dot(ikinci_dizi))"
   ]
  },
  {
   "cell_type": "code",
   "execution_count": 2,
   "metadata": {},
   "outputs": [
    {
     "name": "stdout",
     "output_type": "stream",
     "text": [
      "[[1 2 3]\n",
      " [4 5 6]]\n",
      "[[1 2]\n",
      " [4 5]\n",
      " [7 8]]\n"
     ]
    }
   ],
   "source": [
    "import numpy as np\n",
    "X = np.array(([1,2,3],[4,5,6]))  # X, 2x3'lük bir matris\n",
    "Y = np.array(([1,2],[4,5],[7,8])) # Y, 3x2'lik bir matris\n",
    "print(X)\n",
    "print(Y)\n"
   ]
  },
  {
   "cell_type": "code",
   "execution_count": 3,
   "metadata": {},
   "outputs": [
    {
     "name": "stdout",
     "output_type": "stream",
     "text": [
      "[[30 36]\n",
      " [66 81]]\n"
     ]
    }
   ],
   "source": [
    "Z = np.dot(X,Y)    # hakiki matris çarpımı\n",
    "print(Z)"
   ]
  },
  {
   "cell_type": "code",
   "execution_count": 4,
   "metadata": {},
   "outputs": [
    {
     "ename": "ValueError",
     "evalue": "operands could not be broadcast together with shapes (2,3) (3,2) ",
     "output_type": "error",
     "traceback": [
      "\u001b[0;31m---------------------------------------------------------------------------\u001b[0m",
      "\u001b[0;31mValueError\u001b[0m                                Traceback (most recent call last)",
      "\u001b[0;32m<ipython-input-4-9cf6c795e6cd>\u001b[0m in \u001b[0;36m<module>\u001b[0;34m\u001b[0m\n\u001b[0;32m----> 1\u001b[0;31m \u001b[0mW\u001b[0m \u001b[0;34m=\u001b[0m \u001b[0mnp\u001b[0m\u001b[0;34m.\u001b[0m\u001b[0mmultiply\u001b[0m\u001b[0;34m(\u001b[0m\u001b[0mX\u001b[0m\u001b[0;34m,\u001b[0m\u001b[0mY\u001b[0m\u001b[0;34m)\u001b[0m\u001b[0;34m\u001b[0m\u001b[0;34m\u001b[0m\u001b[0m\n\u001b[0m",
      "\u001b[0;31mValueError\u001b[0m: operands could not be broadcast together with shapes (2,3) (3,2) "
     ]
    }
   ],
   "source": [
    "W = np.multiply(X,Y)"
   ]
  },
  {
   "cell_type": "code",
   "execution_count": 6,
   "metadata": {},
   "outputs": [
    {
     "name": "stdout",
     "output_type": "stream",
     "text": [
      "[[ 1  4  9]\n",
      " [16 25 36]]\n"
     ]
    }
   ],
   "source": [
    "W = np.multiply(X,X)  # Hadamard çarpımı (entry-wise çarpım)\n",
    "print(W)"
   ]
  },
  {
   "cell_type": "code",
   "execution_count": 12,
   "metadata": {},
   "outputs": [
    {
     "name": "stdout",
     "output_type": "stream",
     "text": [
      "[[1 2]\n",
      " [3 4]]\n",
      "[[-2.   1. ]\n",
      " [ 1.5 -0.5]]\n"
     ]
    }
   ],
   "source": [
    "kare_matris = np.array(([1,2],[3,4]))\n",
    "print(kare_matris)\n",
    "ters = np.linalg.inv(kare_matris)\n",
    "print(ters)"
   ]
  },
  {
   "cell_type": "code",
   "execution_count": 8,
   "metadata": {},
   "outputs": [
    {
     "name": "stdout",
     "output_type": "stream",
     "text": [
      "[[1.0000000e+00 0.0000000e+00]\n",
      " [8.8817842e-16 1.0000000e+00]]\n"
     ]
    }
   ],
   "source": [
    "dogrulama = kare_matris.dot(ters)\n",
    "print(dogrulama)"
   ]
  },
  {
   "cell_type": "code",
   "execution_count": 9,
   "metadata": {},
   "outputs": [
    {
     "name": "stdout",
     "output_type": "stream",
     "text": [
      "-2.0000000000000004\n"
     ]
    }
   ],
   "source": [
    "determinant_degeri = np.linalg.det(kare_matris)\n",
    "print(determinant_degeri)"
   ]
  },
  {
   "cell_type": "code",
   "execution_count": 11,
   "metadata": {},
   "outputs": [
    {
     "name": "stdout",
     "output_type": "stream",
     "text": [
      "5\n"
     ]
    }
   ],
   "source": [
    "trace_degeri = np.trace(kare_matris)\n",
    "print(trace_degeri)"
   ]
  },
  {
   "cell_type": "code",
   "execution_count": 8,
   "metadata": {},
   "outputs": [
    {
     "name": "stdout",
     "output_type": "stream",
     "text": [
      "[4 5 6 7]\n"
     ]
    }
   ],
   "source": [
    "import numpy as np\n",
    "\n",
    "dizimiz = np.array([4,5,6,7])\n",
    "print(dizimiz)"
   ]
  },
  {
   "cell_type": "code",
   "execution_count": 9,
   "metadata": {},
   "outputs": [
    {
     "name": "stdout",
     "output_type": "stream",
     "text": [
      "1\n"
     ]
    }
   ],
   "source": [
    "print(dizimiz.ndim)"
   ]
  },
  {
   "cell_type": "code",
   "execution_count": 10,
   "metadata": {},
   "outputs": [
    {
     "name": "stdout",
     "output_type": "stream",
     "text": [
      "4\n"
     ]
    }
   ],
   "source": [
    "print(dizimiz.itemsize)"
   ]
  },
  {
   "cell_type": "code",
   "execution_count": 15,
   "metadata": {},
   "outputs": [
    {
     "name": "stdout",
     "output_type": "stream",
     "text": [
      "int64\n"
     ]
    }
   ],
   "source": [
    "print(dizimiz.dtype)"
   ]
  },
  {
   "cell_type": "code",
   "execution_count": 11,
   "metadata": {},
   "outputs": [
    {
     "name": "stdout",
     "output_type": "stream",
     "text": [
      "4\n"
     ]
    }
   ],
   "source": [
    "print(dizimiz.size)"
   ]
  },
  {
   "cell_type": "code",
   "execution_count": 12,
   "metadata": {},
   "outputs": [
    {
     "name": "stdout",
     "output_type": "stream",
     "text": [
      "(4,)\n"
     ]
    }
   ],
   "source": [
    "print(dizimiz.shape)"
   ]
  },
  {
   "cell_type": "code",
   "execution_count": 20,
   "metadata": {},
   "outputs": [
    {
     "name": "stdout",
     "output_type": "stream",
     "text": [
      "Original array:\n",
      "[  1.      5.55  123.      0.567  25.532]\n",
      "\n",
      "\n",
      "After rounding:\n",
      "[  1.   6. 123.   1.  26.]\n",
      "[  1.    5.6 123.    0.6  25.5]\n",
      "[  1.     5.55 123.     0.57  25.53]\n",
      "[  0.  10. 120.   0.  30.]\n"
     ]
    }
   ],
   "source": [
    "import numpy as np \n",
    "a = np.array([1.0, 5.55, 123, 0.567, 25.532]) \n",
    "\n",
    "print ('Original array:') \n",
    "print (a) \n",
    "print ('\\n')  \n",
    "\n",
    "print ('After rounding:') \n",
    "print (np.around(a)) \n",
    "print (np.around(a, decimals = 1)) \n",
    "print (np.around(a, decimals = 2)) \n",
    "print (np.around(a, decimals = -1))"
   ]
  },
  {
   "cell_type": "code",
   "execution_count": 22,
   "metadata": {},
   "outputs": [
    {
     "name": "stdout",
     "output_type": "stream",
     "text": [
      "[4.        0.7518797 1.              inf 0.01     ]\n"
     ]
    },
    {
     "name": "stderr",
     "output_type": "stream",
     "text": [
      "<ipython-input-22-79386b8bc9ee>:2: RuntimeWarning: divide by zero encountered in reciprocal\n",
      "  b = np.reciprocal(a)\n"
     ]
    }
   ],
   "source": [
    "a = np.array([0.25, 1.33, 1, 0, 100]) \n",
    "b = np.reciprocal(a)\n",
    "print(b)"
   ]
  },
  {
   "cell_type": "code",
   "execution_count": 26,
   "metadata": {},
   "outputs": [
    {
     "name": "stdout",
     "output_type": "stream",
     "text": [
      "[   10   400 27000]\n"
     ]
    }
   ],
   "source": [
    "a = np.array([10, 20, 30])\n",
    "b = np.array([1, 2, 3])\n",
    "c = np.power(a,b)\n",
    "print(c)\n",
    "\n",
    "\n"
   ]
  },
  {
   "cell_type": "code",
   "execution_count": 27,
   "metadata": {},
   "outputs": [
    {
     "name": "stdout",
     "output_type": "stream",
     "text": [
      "[-0.-5.6j  0.+0.2j 11.+0.j   1.+1.j ]\n",
      "a'nın reel kısmı\n",
      "[-0.  0. 11.  1.]\n",
      "a'nın imajiner kısmı\n",
      "[-5.6  0.2  0.   1. ]\n",
      "a'nın karmaşık eşleniği\n",
      "[-0.+5.6j  0.-0.2j 11.-0.j   1.-1.j ]\n",
      "a'nın argümanı (radyan cinsinden)\n",
      "[-1.57079633  1.57079633  0.          0.78539816]\n",
      "a'nın argümanı (derece cinsinden)\n",
      "[-90.  90.   0.  45.]\n"
     ]
    }
   ],
   "source": [
    "import numpy as np \n",
    "a = np.array([-5.6j, 0.2j, 11. , 1+1j]) \n",
    "\n",
    "print (a) \n",
    "\n",
    "print (\"a'nın reel kısmı\")\n",
    "print (np.real(a)) \n",
    "\n",
    "print (\"a'nın imajiner kısmı\") \n",
    "print (np.imag(a)) \n",
    "\n",
    "print (\"a'nın karmaşık eşleniği\") \n",
    "print (np.conj(a)) \n",
    "\n",
    "print (\"a'nın argümanı (radyan cinsinden)\") \n",
    "print (np.angle(a)) \n",
    "\n",
    "print (\"a'nın argümanı (derece cinsinden)\") \n",
    "print (np.angle(a, deg = True))"
   ]
  },
  {
   "cell_type": "code",
   "execution_count": 30,
   "metadata": {},
   "outputs": [
    {
     "name": "stdout",
     "output_type": "stream",
     "text": [
      "Dizimiz:\n",
      "[[3 7 5]\n",
      " [8 4 3]\n",
      " [2 4 9]]\n",
      "amin() uygulandığında:\n",
      "[3 3 2]\n",
      "amin() yine uygulandığında\n",
      "[2 4 3]\n",
      "amin() parametresiz uygulandığında:\n",
      "2\n",
      "amin() axis = 1 ile uygulandığında:\n",
      "[3 3 2]\n",
      "amin() axis = 0 ile uygulandığında:\n",
      "[2 4 3]\n"
     ]
    }
   ],
   "source": [
    "a = np.array([[3,7,5],[8,4,3],[2,4,9]]) \n",
    "\n",
    "print ('Dizimiz:') \n",
    "print (a)  \n",
    "\n",
    "print ('amin() uygulandığında:') \n",
    "print (np.amin(a,1)) # satır satır bak ve her bir satırın minimumunu döndür\n",
    "\n",
    "print ('amin() yine uygulandığında') \n",
    "print (np.amin(a,0)) # sütun sütun bak ve her bir sütunun minimumunu döndür\n",
    "\n",
    "print ('amin() parametresiz uygulandığında:')  \n",
    "print (np.amin(a)) # tüm matrisin minimumunu bul\n",
    "\n",
    "print ('amin() axis = 1 ile uygulandığında:') \n",
    "print (np.amin(a, axis = 1)) # satır satır bak ve her bir satırın minimumunu döndür\n",
    "\n",
    "print ('amin() axis = 0 ile uygulandığında:') \n",
    "print (np.amin(a, axis = 0)) # sütun sütun bak ve her bir sütunun minimumunu döndür\n",
    "\n",
    "# bütün bunlar amax için de geçerli"
   ]
  },
  {
   "cell_type": "code",
   "execution_count": 31,
   "metadata": {},
   "outputs": [
    {
     "name": "stdout",
     "output_type": "stream",
     "text": [
      "Dizimiz:\n",
      "[[3 7 5]\n",
      " [8 4 3]\n",
      " [2 4 9]]\n",
      "ptp() uyguladığımızda:\n",
      "7\n",
      "ptp() fonksiyonunu axis = 1 boyunca uyguladığımızda:\n",
      "[4 5 7]\n",
      "ptp() fonksiyonunu axis = 0 boyunca uyguladığımızda:\n",
      "[6 3 6]\n"
     ]
    }
   ],
   "source": [
    "a = np.array([[3,7,5],[8,4,3],[2,4,9]]) \n",
    "\n",
    "print (\"Dizimiz:\") \n",
    "print (a) \n",
    "\n",
    "print ('ptp() uyguladığımızda:') \n",
    "print (np.ptp(a)) # tüm matrise bak ve matris bazında (max - min) değerini döndür\n",
    "\n",
    "print ('ptp() fonksiyonunu axis = 1 boyunca uyguladığımızda:')  \n",
    "print (np.ptp(a, axis = 1)) # satır satır bak ve satır bazında (max - min) değerini döndür\n",
    "\n",
    "print ('ptp() fonksiyonunu axis = 0 boyunca uyguladığımızda:')  \n",
    "print (np.ptp(a, axis = 0)) # sütun sütun bak ve sütun bazında (max - min) değerini döndür"
   ]
  },
  {
   "cell_type": "code",
   "execution_count": 32,
   "metadata": {},
   "outputs": [
    {
     "name": "stdout",
     "output_type": "stream",
     "text": [
      "Dizimiz: \n",
      "[[30 65 70]\n",
      " [80 95 10]\n",
      " [50 90 60]]\n",
      "Tüm dizinin ortancası: \n",
      "65.0\n",
      "Ortancayı axis = 0 ile hesaplarsak:\n",
      "[50. 90. 60.]\n",
      "Ortancayı axis = 1 ile hesaplarsak:\n",
      "[65. 80. 60.]\n"
     ]
    }
   ],
   "source": [
    "a = np.array([[30,65,70],[80,95,10],[50,90,60]]) \n",
    "\n",
    "print (\"Dizimiz: \")\n",
    "print (a) \n",
    "\n",
    "print (\"Tüm dizinin ortancası: \") \n",
    "print (np.median(a)) \n",
    "\n",
    "print (\"Ortancayı axis = 0 ile hesaplarsak:\")\n",
    "print (np.median(a, axis = 0)) # sütun sütun bakıp her bir sütunun ortancasını hesapla\n",
    "\n",
    "print (\"Ortancayı axis = 1 ile hesaplarsak:\")\n",
    "print (np.median(a, axis = 1)) # satır satır bakıp her bir satırın ortancasını hesapla\n"
   ]
  },
  {
   "cell_type": "code",
   "execution_count": 33,
   "metadata": {},
   "outputs": [
    {
     "name": "stdout",
     "output_type": "stream",
     "text": [
      "Dizimiz:\n",
      "[1 2 3 4]\n",
      "Herhangi bir ağırlık belirtmezsek:\n",
      "2.5\n",
      "Ağırlık belirterek (ama True demeden) hesaplatırsak:\n",
      "2.0\n",
      "Ağırlık belirterek (ama True diyerek) hesaplatırsak:\n",
      "(2.0, 10.0)\n"
     ]
    }
   ],
   "source": [
    "a = np.array([1,2,3,4]) \n",
    "\n",
    "print (\"Dizimiz:\")\n",
    "print (a) \n",
    "\n",
    "print (\"Herhangi bir ağırlık belirtmezsek:\") \n",
    "print (np.average(a)) \n",
    "\n",
    "agirlik = np.array([4,3,2,1]) \n",
    "\n",
    "print (\"Ağırlık belirterek (ama True demeden) hesaplatırsak:\") \n",
    "print (np.average(a, weights = agirlik)) # ağırlıklı ortalama hesapladı!...\n",
    "\n",
    "print (\"Ağırlık belirterek (ama True diyerek) hesaplatırsak:\") \n",
    "print (np.average(a, weights = agirlik, returned = True))  # ağırlıklı ortalamanın yanı sıra ağırlıklar toplamını da hesapladı"
   ]
  },
  {
   "cell_type": "code",
   "execution_count": 0,
   "metadata": {},
   "outputs": [],
   "source": []
  }
 ],
 "metadata": {
  "kernelspec": {
   "display_name": "Python 3",
   "language": "python",
   "name": "python3"
  },
  "language_info": {
   "codemirror_mode": {
    "name": "ipython",
    "version": 3
   },
   "file_extension": ".py",
   "mimetype": "text/x-python",
   "name": "python",
   "nbconvert_exporter": "python",
   "pygments_lexer": "ipython3",
   "version": "3.8.3"
  }
 },
 "nbformat": 4,
 "nbformat_minor": 4
}
