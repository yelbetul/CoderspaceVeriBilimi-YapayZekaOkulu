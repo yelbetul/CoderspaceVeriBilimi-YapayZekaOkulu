{
 "cells": [
  {
   "cell_type": "code",
   "execution_count": 3,
   "metadata": {},
   "outputs": [
    {
     "name": "stdout",
     "output_type": "stream",
     "text": [
      "Veri Çerçevesi Oluştur:\n",
      "    Dersler  Ucretler Sureler  Indirim\n",
      "0    Spark     22000   30gun     1000\n",
      "1  PySpark     25000   50gun     2300\n",
      "2   Hadoop     23000   30gun     1000\n",
      "3   Python     24000    None     1200\n",
      "4   Pandas     26000     NaN     2500\n"
     ]
    }
   ],
   "source": [
    "import pandas as pd\n",
    "import numpy as np\n",
    "teknolojiler = {\n",
    "    'Dersler':[\"Spark\",\"PySpark\",\"Hadoop\",\"Python\",\"Pandas\"],\n",
    "    'Ucretler' :[22000,25000,23000,24000,26000],\n",
    "    'Sureler':['30gun','50gun','30gun', None,np.nan],\n",
    "    'Indirim':[1000,2300,1000,1200,2500]\n",
    "          }\n",
    "df = pd.DataFrame(teknolojiler)\n",
    "print(\"Veri Çerçevesi Oluştur:\\n\", df)"
   ]
  },
  {
   "cell_type": "code",
   "execution_count": 16,
   "metadata": {},
   "outputs": [
    {
     "name": "stdout",
     "output_type": "stream",
     "text": [
      "Sorgunun ardından elde edilen:\n",
      "   Dersler  Ucretler Sureler  Indirim\n",
      "0   Spark     22000   30gun     1000\n"
     ]
    }
   ],
   "source": [
    "# 'Spark' isimli satır(lar)ı sorgula\n",
    "df2 = df.query(\"Dersler == 'Spark'\")\n",
    "print(\"Sorgunun ardından elde edilen:\\n\", df2)"
   ]
  },
  {
   "cell_type": "code",
   "execution_count": 17,
   "metadata": {},
   "outputs": [
    {
     "name": "stdout",
     "output_type": "stream",
     "text": [
      "Sorgunun ardından elde edilen:\n",
      "   Dersler  Ucretler Sureler  Indirim\n",
      "0   Spark     22000   30gun     1000\n"
     ]
    }
   ],
   "source": [
    "# Python değişkeni üzerinden sorgulama (alternatif yontem)\n",
    "deger ='Spark'\n",
    "df2 = df.query(\"Dersler == @deger\")\n",
    "print(\"Sorgunun ardından elde edilen:\\n\", df2)"
   ]
  },
  {
   "cell_type": "code",
   "execution_count": 18,
   "metadata": {},
   "outputs": [
    {
     "name": "stdout",
     "output_type": "stream",
     "text": [
      "Sorgunun ardından elde edilen:\n",
      "    Dersler  Ucretler Sureler  Indirim\n",
      "1  PySpark     25000   50gun     2300\n",
      "2   Hadoop     23000   30gun     1000\n",
      "3   Python     24000    None     1200\n",
      "4   Pandas     26000     NaN     2500\n"
     ]
    }
   ],
   "source": [
    "# 'Spark' isimli olmayan satır(lar)ı sorgula\n",
    "df2 = df.query(\"Dersler != 'Spark'\")\n",
    "print(\"Sorgunun ardından elde edilen:\\n\", df2)"
   ]
  },
  {
   "cell_type": "code",
   "execution_count": 19,
   "metadata": {},
   "outputs": [
    {
     "name": "stdout",
     "output_type": "stream",
     "text": [
      "Sorgunun ardından elde edilen:\n",
      "    Dersler  Ucretler Sureler  Indirim\n",
      "0    Spark     22000   30gun     1000\n",
      "1  PySpark     25000   50gun     2300\n"
     ]
    }
   ],
   "source": [
    "# Belirli bir listedeki değerleri sorgula\n",
    "df2 = df.query(\"Dersler in ('Spark','PySpark')\")\n",
    "print(\"Sorgunun ardından elde edilen:\\n\", df2)"
   ]
  },
  {
   "cell_type": "code",
   "execution_count": 20,
   "metadata": {},
   "outputs": [
    {
     "name": "stdout",
     "output_type": "stream",
     "text": [
      "Sorgunun ardından elde edilen:\n",
      "    Dersler  Ucretler Sureler  Indirim\n",
      "0    Spark     22000   30gun     1000\n",
      "1  PySpark     25000   50gun     2300\n"
     ]
    }
   ],
   "source": [
    "# 'Spark' veya 'PySpark' isimli satır(lar)ı sorgula\n",
    "df2 = df.query(\"Dersler == 'Spark' | Dersler == 'PySpark'\")\n",
    "print(\"Sorgunun ardından elde edilen:\\n\", df2)"
   ]
  },
  {
   "cell_type": "code",
   "execution_count": 21,
   "metadata": {},
   "outputs": [
    {
     "name": "stdout",
     "output_type": "stream",
     "text": [
      "Sorgunun ardından elde edilen:\n",
      "    Dersler  Ucretler Sureler  Indirim\n",
      "0    Spark     22000   30gun     1000\n",
      "1  PySpark     25000   50gun     2300\n"
     ]
    }
   ],
   "source": [
    "# Python liste değişkeni ile sorgula (alternatif yöntem)\n",
    "degerler = ['Spark','PySpark']\n",
    "df2 = df.query(\"Dersler in @degerler\")\n",
    "print(\"Sorgunun ardından elde edilen:\\n\", df2)"
   ]
  },
  {
   "cell_type": "code",
   "execution_count": 22,
   "metadata": {},
   "outputs": [
    {
     "name": "stdout",
     "output_type": "stream",
     "text": [
      "Sorgunun ardından elde edilen:\n",
      "   Dersler  Ucretler Sureler  Indirim\n",
      "2  Hadoop     23000   30gun     1000\n",
      "3  Python     24000    None     1200\n",
      "4  Pandas     26000     NaN     2500\n"
     ]
    }
   ],
   "source": [
    "# Python liste değişkeni ile tersine sorgula \n",
    "degerler = ['Spark','PySpark']\n",
    "df2 = df.query(\"Dersler not in @degerler\")\n",
    "print(\"Sorgunun ardından elde edilen:\\n\", df2)"
   ]
  },
  {
   "cell_type": "code",
   "execution_count": 23,
   "metadata": {},
   "outputs": [
    {
     "name": "stdout",
     "output_type": "stream",
     "text": [
      "Sorgunun ardından elde edilen:\n",
      "    Dersler  Ucretler Sureler  Indirim\n",
      "1  PySpark     25000   50gun     2300\n",
      "2   Hadoop     23000   30gun     1000\n",
      "3   Python     24000    None     1200\n",
      "4   Pandas     26000     NaN     2500\n"
     ]
    }
   ],
   "source": [
    "df2 = df.query(\"Ucretler >= 23000\")\n",
    "print(\"Sorgunun ardından elde edilen:\\n\", df2)"
   ]
  },
  {
   "cell_type": "code",
   "execution_count": 24,
   "metadata": {},
   "outputs": [
    {
     "name": "stdout",
     "output_type": "stream",
     "text": [
      "Sorgunun ardından elde edilen:\n",
      "    Dersler  Ucretler Sureler  Indirim\n",
      "1  PySpark     25000   50gun     2300\n",
      "3   Python     24000    None     1200\n"
     ]
    }
   ],
   "source": [
    "# 'Spark' veya 'PySpark' isimli satır(lar)ı sorgula\n",
    "df2 = df.query(\"Ucretler >=23500 and Ucretler <= 25500\")\n",
    "print(\"Sorgunun ardından elde edilen:\\n\", df2)"
   ]
  },
  {
   "cell_type": "code",
   "execution_count": 2,
   "metadata": {},
   "outputs": [
    {
     "ename": "NameError",
     "evalue": "name 'np' is not defined",
     "output_type": "error",
     "traceback": [
      "\u001b[1;31m---------------------------------------------------------------------------\u001b[0m",
      "\u001b[1;31mNameError\u001b[0m                                 Traceback (most recent call last)",
      "\u001b[1;32m<ipython-input-2-2252feff5f1f>\u001b[0m in \u001b[0;36m<module>\u001b[1;34m\u001b[0m\n\u001b[0;32m      2\u001b[0m     \u001b[1;34m'Dersler'\u001b[0m\u001b[1;33m:\u001b[0m\u001b[1;33m[\u001b[0m\u001b[1;34m\"Spark\"\u001b[0m\u001b[1;33m,\u001b[0m\u001b[1;34m\"PySpark\"\u001b[0m\u001b[1;33m,\u001b[0m\u001b[1;34m\"Hadoop\"\u001b[0m\u001b[1;33m,\u001b[0m\u001b[1;34m\"Python\"\u001b[0m\u001b[1;33m,\u001b[0m\u001b[1;34m\"Pandas\"\u001b[0m\u001b[1;33m]\u001b[0m\u001b[1;33m,\u001b[0m\u001b[1;33m\u001b[0m\u001b[1;33m\u001b[0m\u001b[0m\n\u001b[0;32m      3\u001b[0m     \u001b[1;34m'Ders Ucretleri'\u001b[0m \u001b[1;33m:\u001b[0m\u001b[1;33m[\u001b[0m\u001b[1;36m22000\u001b[0m\u001b[1;33m,\u001b[0m\u001b[1;36m25000\u001b[0m\u001b[1;33m,\u001b[0m\u001b[1;36m23000\u001b[0m\u001b[1;33m,\u001b[0m\u001b[1;36m24000\u001b[0m\u001b[1;33m,\u001b[0m\u001b[1;36m26000\u001b[0m\u001b[1;33m]\u001b[0m\u001b[1;33m,\u001b[0m\u001b[1;33m\u001b[0m\u001b[1;33m\u001b[0m\u001b[0m\n\u001b[1;32m----> 4\u001b[1;33m     \u001b[1;34m'Sureler'\u001b[0m\u001b[1;33m:\u001b[0m\u001b[1;33m[\u001b[0m\u001b[1;34m'30gun'\u001b[0m\u001b[1;33m,\u001b[0m\u001b[1;34m'50gun'\u001b[0m\u001b[1;33m,\u001b[0m\u001b[1;34m'30gun'\u001b[0m\u001b[1;33m,\u001b[0m \u001b[1;32mNone\u001b[0m\u001b[1;33m,\u001b[0m\u001b[0mnp\u001b[0m\u001b[1;33m.\u001b[0m\u001b[0mnan\u001b[0m\u001b[1;33m]\u001b[0m\u001b[1;33m,\u001b[0m\u001b[1;33m\u001b[0m\u001b[1;33m\u001b[0m\u001b[0m\n\u001b[0m\u001b[0;32m      5\u001b[0m     \u001b[1;34m'Indirim'\u001b[0m\u001b[1;33m:\u001b[0m\u001b[1;33m[\u001b[0m\u001b[1;36m1000\u001b[0m\u001b[1;33m,\u001b[0m\u001b[1;36m2300\u001b[0m\u001b[1;33m,\u001b[0m\u001b[1;36m1000\u001b[0m\u001b[1;33m,\u001b[0m\u001b[1;36m1200\u001b[0m\u001b[1;33m,\u001b[0m\u001b[1;36m2500\u001b[0m\u001b[1;33m]\u001b[0m\u001b[1;33m\u001b[0m\u001b[1;33m\u001b[0m\u001b[0m\n\u001b[0;32m      6\u001b[0m           }\n",
      "\u001b[1;31mNameError\u001b[0m: name 'np' is not defined"
     ]
    }
   ],
   "source": [
    "teknolojiler = {\n",
    "    'Dersler':[\"Spark\",\"PySpark\",\"Hadoop\",\"Python\",\"Pandas\"],\n",
    "    'Ders Ucretleri' :[22000,25000,23000,24000,26000],\n",
    "    'Sureler':['30gun','50gun','30gun', None,np.nan],\n",
    "    'Indirim':[1000,2300,1000,1200,2500]\n",
    "          }\n",
    "df = pd.DataFrame(teknolojiler)\n",
    "print(\"Veri Çerçevesi Oluştur:\\n\", df)"
   ]
  },
  {
   "cell_type": "code",
   "execution_count": 13,
   "metadata": {},
   "outputs": [
    {
     "name": "stdout",
     "output_type": "stream",
     "text": [
      "Sorgunun ardından elde edilen:\n",
      "    Dersler  Ders Ucretleri Sureler  Indirim\n",
      "1  PySpark           25000   50gun     2300\n",
      "2   Hadoop           23000   30gun     1000\n",
      "3   Python           24000    None     1200\n",
      "4   Pandas           26000     NaN     2500\n"
     ]
    }
   ],
   "source": [
    "# Özel karakter içeren sütun isimleri ile işlem yapma\n",
    "# ` karakteri kullanıyoruz\n",
    "df2 = df.query(\"`Ders Ucretleri` >= 23000\")\n",
    "print(\"Sorgunun ardından elde edilen:\\n\", df2)"
   ]
  },
  {
   "cell_type": "code",
   "execution_count": 14,
   "metadata": {},
   "outputs": [
    {
     "ename": "SyntaxError",
     "evalue": "invalid syntax (<unknown>, line 1)",
     "output_type": "error",
     "traceback": [
      "Traceback \u001b[1;36m(most recent call last)\u001b[0m:\n",
      "  File \u001b[0;32m\"C:\\Users\\Hp\\anaconda3\\lib\\site-packages\\IPython\\core\\interactiveshell.py\"\u001b[0m, line \u001b[0;32m3343\u001b[0m, in \u001b[0;35mrun_code\u001b[0m\n    exec(code_obj, self.user_global_ns, self.user_ns)\n",
      "  File \u001b[0;32m\"<ipython-input-14-5e9fb200d2e1>\"\u001b[0m, line \u001b[0;32m3\u001b[0m, in \u001b[0;35m<module>\u001b[0m\n    df2 = df.query(\"Ders Ucretleri >= 23000\")\n",
      "  File \u001b[0;32m\"C:\\Users\\Hp\\anaconda3\\lib\\site-packages\\pandas\\core\\frame.py\"\u001b[0m, line \u001b[0;32m3231\u001b[0m, in \u001b[0;35mquery\u001b[0m\n    res = self.eval(expr, **kwargs)\n",
      "  File \u001b[0;32m\"C:\\Users\\Hp\\anaconda3\\lib\\site-packages\\pandas\\core\\frame.py\"\u001b[0m, line \u001b[0;32m3346\u001b[0m, in \u001b[0;35meval\u001b[0m\n    return _eval(expr, inplace=inplace, **kwargs)\n",
      "  File \u001b[0;32m\"C:\\Users\\Hp\\anaconda3\\lib\\site-packages\\pandas\\core\\computation\\eval.py\"\u001b[0m, line \u001b[0;32m332\u001b[0m, in \u001b[0;35meval\u001b[0m\n    parsed_expr = Expr(expr, engine=engine, parser=parser, env=env)\n",
      "  File \u001b[0;32m\"C:\\Users\\Hp\\anaconda3\\lib\\site-packages\\pandas\\core\\computation\\expr.py\"\u001b[0m, line \u001b[0;32m764\u001b[0m, in \u001b[0;35m__init__\u001b[0m\n    self.terms = self.parse()\n",
      "  File \u001b[0;32m\"C:\\Users\\Hp\\anaconda3\\lib\\site-packages\\pandas\\core\\computation\\expr.py\"\u001b[0m, line \u001b[0;32m781\u001b[0m, in \u001b[0;35mparse\u001b[0m\n    return self._visitor.visit(self.expr)\n",
      "  File \u001b[0;32m\"C:\\Users\\Hp\\anaconda3\\lib\\site-packages\\pandas\\core\\computation\\expr.py\"\u001b[0m, line \u001b[0;32m371\u001b[0m, in \u001b[0;35mvisit\u001b[0m\n    raise e\n",
      "  File \u001b[0;32m\"C:\\Users\\Hp\\anaconda3\\lib\\site-packages\\pandas\\core\\computation\\expr.py\"\u001b[0m, line \u001b[0;32m367\u001b[0m, in \u001b[0;35mvisit\u001b[0m\n    node = ast.fix_missing_locations(ast.parse(clean))\n",
      "\u001b[1;36m  File \u001b[1;32m\"C:\\Users\\Hp\\anaconda3\\lib\\ast.py\"\u001b[1;36m, line \u001b[1;32m47\u001b[1;36m, in \u001b[1;35mparse\u001b[1;36m\u001b[0m\n\u001b[1;33m    return compile(source, filename, mode, flags,\u001b[0m\n",
      "\u001b[1;36m  File \u001b[1;32m\"<unknown>\"\u001b[1;36m, line \u001b[1;32m1\u001b[0m\n\u001b[1;33m    Ders Ucretleri >=23000\u001b[0m\n\u001b[1;37m         ^\u001b[0m\n\u001b[1;31mSyntaxError\u001b[0m\u001b[1;31m:\u001b[0m invalid syntax\n"
     ]
    }
   ],
   "source": [
    "# Özel karakter içeren sütun isimleri ile işlem yapma\n",
    "# ` karakteri kullanmasaydık\n",
    "df2 = df.query(\"Ders Ucretleri >= 23000\")\n",
    "print(\"Sorgunun ardından elde edilen:\\n\", df2)"
   ]
  },
  {
   "cell_type": "code",
   "execution_count": null,
   "metadata": {},
   "outputs": [],
   "source": []
  },
  {
   "cell_type": "code",
   "execution_count": null,
   "metadata": {},
   "outputs": [],
   "source": []
  }
 ],
 "metadata": {
  "kernelspec": {
   "display_name": "Python 3",
   "language": "python",
   "name": "python3"
  },
  "language_info": {
   "codemirror_mode": {
    "name": "ipython",
    "version": 3
   },
   "file_extension": ".py",
   "mimetype": "text/x-python",
   "name": "python",
   "nbconvert_exporter": "python",
   "pygments_lexer": "ipython3",
   "version": "3.8.3"
  }
 },
 "nbformat": 4,
 "nbformat_minor": 4
}
